{
 "cells": [
  {
   "cell_type": "code",
   "execution_count": 1,
   "metadata": {},
   "outputs": [],
   "source": [
    "from tqdm import tqdm\n",
    "import argparse\n",
    "from utils import *\n",
    "from freebase import *\n",
    "from propagation import *\n",
    "import random\n",
    "\n",
    "\n",
    "\n",
    "parser = argparse.ArgumentParser()\n",
    "parser.add_argument(\"--dataset\", type=str,\n",
    "                    default=\"webqsp\", help=\"choose the dataset from {webqsp, cwq}.\")\n",
    "parser.add_argument(\"--max_length\", type=int,\n",
    "                    default=1024, help=\"the max length of LLMs output.\")\n",
    "parser.add_argument(\"--temperature\", type=float,\n",
    "                    default=0., help=\"the temperature\")\n",
    "parser.add_argument(\"--llm\", type=str,\n",
    "                    default=\"llama\", help=\"choose base LLM model from {llama, gpt-3.5-turbo, gpt-4}.\")\n",
    "parser.add_argument(\"--openai_api_key\", type=str,\n",
    "                    default=\"\", help=\"if the LLM is gpt-3.5-turbo or gpt-4, you need add your own openai api key.\")\n",
    "args = parser.parse_args(\"\")\n",
    "\n",
    "\n",
    "datas, question_string = prepare_dataset(args.dataset)"
   ]
  },
  {
   "cell_type": "code",
   "execution_count": 3,
   "metadata": {},
   "outputs": [
    {
     "name": "stderr",
     "output_type": "stream",
     "text": [
      "100%|██████████| 1639/1639 [00:00<00:00, 546851.03it/s]\n"
     ]
    }
   ],
   "source": [
    "relations = []\n",
    "for data in tqdm(datas):\n",
    "    for i in data['Parses']:\n",
    "        relation = i['InferentialChain']\n",
    "        if relation is not None:\n",
    "            relations += relation\n",
    "relations = set(relations)"
   ]
  },
  {
   "cell_type": "code",
   "execution_count": 2,
   "metadata": {},
   "outputs": [],
   "source": [
    "sparql_all_relations = \"\"\"\n",
    "PREFIX ns: <http://rdf.freebase.com/ns/>\n",
    "SELECT DISTINCT ?r\n",
    "WHERE {\n",
    "?e ?r ?e1 .\n",
    "}\n",
    "\"\"\"\n",
    "r = execute_sparql(sparql_all_relations)\n",
    "r = set([i['r']['value'].replace(\"http://rdf.freebase.com/ns/\", \"\") for i in r if i['r']['value'].startswith(\"http://rdf.freebase.com/ns/\")])"
   ]
  },
  {
   "cell_type": "code",
   "execution_count": 7,
   "metadata": {},
   "outputs": [],
   "source": [
    "filter_relations = list(r - relations)"
   ]
  },
  {
   "cell_type": "code",
   "execution_count": 1,
   "metadata": {},
   "outputs": [
    {
     "ename": "NameError",
     "evalue": "name 'r' is not defined",
     "output_type": "error",
     "traceback": [
      "\u001b[1;31m---------------------------------------------------------------------------\u001b[0m",
      "\u001b[1;31mNameError\u001b[0m                                 Traceback (most recent call last)",
      "Cell \u001b[1;32mIn[1], line 1\u001b[0m\n\u001b[1;32m----> 1\u001b[0m \u001b[38;5;28mset\u001b[39m([i\u001b[38;5;241m.\u001b[39msplit(\u001b[38;5;124m'\u001b[39m\u001b[38;5;124m.\u001b[39m\u001b[38;5;124m'\u001b[39m)[\u001b[38;5;241m0\u001b[39m] \u001b[38;5;28;01mfor\u001b[39;00m i \u001b[38;5;129;01min\u001b[39;00m \u001b[43mr\u001b[49m]) \u001b[38;5;241m-\u001b[39m \u001b[38;5;28mset\u001b[39m([i\u001b[38;5;241m.\u001b[39msplit(\u001b[38;5;124m'\u001b[39m\u001b[38;5;124m.\u001b[39m\u001b[38;5;124m'\u001b[39m)[\u001b[38;5;241m0\u001b[39m]  \u001b[38;5;28;01mfor\u001b[39;00m i \u001b[38;5;129;01min\u001b[39;00m relations])\n",
      "\u001b[1;31mNameError\u001b[0m: name 'r' is not defined"
     ]
    }
   ],
   "source": [
    "set([i.split('.')[0] for i in r]) - set([i.split('.')[0]  for i in relations])"
   ]
  },
  {
   "cell_type": "code",
   "execution_count": 5,
   "metadata": {},
   "outputs": [
    {
     "data": {
      "text/plain": [
       "['base.aubreymaturin.ship_mention.description',\n",
       " 'user.patrick.default_domain.room.description',\n",
       " 'user.philg.acre.acre_api_method.description',\n",
       " 'base.jewlib.printed_description.contains_information_on',\n",
       " 'base.modelingexamples.example.model_description',\n",
       " 'base.schemastaging.phone_sandbox.description',\n",
       " 'base.fcintcommunity.services.description',\n",
       " 'base.aubreymaturin.character_mention.description',\n",
       " 'base.schemastaging.listed_serving_size.quantity_description',\n",
       " 'base.wakfu.item.description',\n",
       " 'base.sa3base.sa3_textual.description_for_fr_title',\n",
       " 'base.sa3base.sa3_textual.description_for_system_name',\n",
       " 'user.itteco.ga.domain.item.description',\n",
       " 'award.long_list_nomination.notes_description',\n",
       " 'base.sa3base.sa3_textual.description_for_mapping_between_view',\n",
       " 'common.webpage.description',\n",
       " 'freebase.property_hints.inverse_description',\n",
       " 'user.xandr.scrap.schema.item.description',\n",
       " 'base.mapcentral.fgdc_process_step.process_description',\n",
       " 'base.aubreymaturin.species_mention.description',\n",
       " 'base.visleg.collaborative_participation.role_description',\n",
       " 'base.electromagneticspectrum.service.service_description',\n",
       " 'base.technologyofdoing.knowledge_worker_practice.description',\n",
       " 'base.bio2rdf.bm.description',\n",
       " 'base.microdata.vcard_tel_type.description',\n",
       " 'base.mapcentral.fgdc_entity_and_attribute.class_code_description',\n",
       " 'common.topic.description',\n",
       " 'freebase.apps.application.description',\n",
       " 'base.schemastaging.food_energy_information.per_quantity_description',\n",
       " 'base.sa2base.sa2_textual.description_for_level',\n",
       " 'user.philg.acre.acre_api_argument.description',\n",
       " 'base.schemastaging.nutrition_information.per_quantity_description',\n",
       " 'base.aubreymaturin.place_mention.description',\n",
       " 'base.jewlib.research_collection.printed_descriptions',\n",
       " 'base.litcentral.focal_taxa.population_description',\n",
       " 'user.itteco.ga.scheme.item.description',\n",
       " 'user.spatialed.types_to_move.move_description.topic_s',\n",
       " 'award.award_nomination.notes_description',\n",
       " 'biology.gene_ontology_group.description',\n",
       " 'award.award_honor.notes_description',\n",
       " 'user.spatialed.types_to_move.move_description.to_base']"
      ]
     },
     "execution_count": 5,
     "metadata": {},
     "output_type": "execute_result"
    }
   ],
   "source": [
    "[i for i in r if \"description\" in i]"
   ]
  }
 ],
 "metadata": {
  "kernelspec": {
   "display_name": "llm",
   "language": "python",
   "name": "python3"
  },
  "language_info": {
   "codemirror_mode": {
    "name": "ipython",
    "version": 3
   },
   "file_extension": ".py",
   "mimetype": "text/x-python",
   "name": "python",
   "nbconvert_exporter": "python",
   "pygments_lexer": "ipython3",
   "version": "3.9.19"
  }
 },
 "nbformat": 4,
 "nbformat_minor": 2
}
