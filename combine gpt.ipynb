{
 "cells": [
  {
   "cell_type": "code",
   "execution_count": 2,
   "metadata": {},
   "outputs": [],
   "source": [
    "from utils import prepare_answer, read_jsonl, normalize_str, get_list_str, save_2_jsonl, prepare_dataset\n"
   ]
  },
  {
   "cell_type": "code",
   "execution_count": 3,
   "metadata": {},
   "outputs": [],
   "source": [
    "def match(answer, result):\n",
    "    answer = [normalize_str(i) for i in answer]\n",
    "    for ans in answer:\n",
    "        if ans in normalize_str(result):  # exact match\n",
    "            return True\n",
    "        # else:\n",
    "        #     for res in [normalize_str(i) for i in get_list_str(result)]:   # exact match with different ordering e.g. world series 2014 == 2014 world series\n",
    "        #         if all([i in res for i in ans.split(' ')]):\n",
    "        #             return True\n",
    "    return False\n",
    "   \n",
    "def reverse_match(answer, result):   # e.g question: when ...? answer: 2014 world series, result: 2014\n",
    "    answer = [normalize_str(i) for i in answer]\n",
    "    result = [normalize_str(i) for i in get_list_str(result)]\n",
    "    for res in result:\n",
    "        if any([res in i for i in answer]):\n",
    "            return True\n",
    "    return False"
   ]
  },
  {
   "cell_type": "code",
   "execution_count": 6,
   "metadata": {},
   "outputs": [
    {
     "name": "stderr",
     "output_type": "stream",
     "text": [
      "100%|██████████| 1639/1639 [00:00<00:00, 21012.55it/s]\n"
     ]
    }
   ],
   "source": [
    "datas, question_string = prepare_dataset('webqsp')\n",
    "answers = prepare_answer('webqsp', False)\n",
    "results = read_jsonl('lmp_webqsp_gpt-4_1hop.jsonl')\n",
    "new_results = read_jsonl('lmp_webqsp_gpt-4o-mini_1hop.jsonl')\n",
    "new_index = [6, 8, 21, 27, 29, 30, 35, 40, 71, 78, 89, 94, 96, 97, 104, 115, 117, 136, 141, 153, 158, 182, 185, 206, 209, 211, 217, 223, 235, 250, 252, 254, 280, 299, 305, 308, 317, 324, 327, 334, 344, 359, 378, 386, 397, 425, 441, 452, 462, 467, 484, 485, 488, 502, 536, 539, 549, 550, 555, 563, 564, 592, 593, 597, 598, 617, 624, 626, 627, 629, 634, 637, 643, 660, 691, 717, 744, 755, 762, 771, 780, 781, 785, 807, 815, 847, 853, 857, 862, 873, 875, 891, 896, 898, 913, 943, 950, 956, 961, 980, 1015, 1023, 1044, 1047, 1049, 1052, 1059, 1060, 1073, 1083, 1085, 1086, 1092, 1097, 1116, 1126, 1143, 1146, 1148, 1152, 1177, 1200, 1226, 1236, 1240, 1242, 1254, 1278, 1280, 1283, 1291, 1348, 1357, 1359, 1371, 1374, 1377, 1381, 1383, 1386, 1387, 1388, 1397, 1400, 1417, 1423, 1427, 1436, 1461, 1481, 1484, 1490, 1495, 1522, 1530, 1536, 1561, 1567, 1573, 1582, 1609, 1631, 1636, 1638]\n",
    "assert len(new_results)  == len(new_index)\n",
    "# new_index[18:]\n",
    "\n",
    "# e_r = [69, 89, 144, 200, 207, 208, 209, 210, 222, 229, 232, 236, 238, 243, 259, 263, 265, 280, 283, 292, 294, 295, 305, 318, 321, 325, 334, 336, 347, 353, 366, 378, 388, 390, 399, 411, 418, 430, 456, 462, 470, 488, 496, 502, 505, 506, 513, 514, 520, 525, 530, 535, 536, 537, 542, 543, 545, 552, 553, 554, 555, 566, 576, 577, 578, 583, 587, 597, 603, 613, 624, 641, 666, 671, 683, 694, 705, 713, 714, 720, 726, 730, 741, 762, 788, 790, 802, 804, 811, 865, 867, 870, 905, 937, 948, 966, 974, 993, 999, 1012, 1021, 1045, 1047, 1050, 1053, 1064, 1094, 1101, 1107, 1108, 1118, 1127, 1138, 1153, 1159, 1168, 1178, 1208, 1230, 1264, 1265, 1280, 1282, 1323, 1328, 1336, 1352, 1357, 1369, 1371, 1391, 1393, 1397, 1402, 1403, 1413, 1442, 1458, 1462, 1469, 1470, 1482, 1508, 1515, 1520, 1523, 1527, 1573, 1581, 1592, 1602, 1608, 1653, 1664, 1666, 1671, 1687, 1691, 1694, 1700, 1713, 1724, 1739, 1741, 1793, 1797, 1799, 1812, 1815, 1854, 1866, 1883, 1899, 1914, 1920, 1975, 1980, 2006, 2011, 2015, 2021, 2032, 2035, 2049, 2054, 2059, 2062, 2064, 2107, 2118, 2120, 2132, 2140, 2149, 2169, 2172, 2173, 2197, 2215, 2222, 2249, 2261, 2273, 2294, 2300, 2323, 2335, 2363, 2373, 2377, 2378, 2402, 2432, 2433, 2452, 2472, 2491, 2501, 2528, 2531, 2549, 2564, 2566, 2572, 2573, 2603, 2627, 2652, 2653, 2654, 2693, 2698, 2705, 2706, 2732, 2750, 2753, 2759, 2773, 2778, 2784, 2785, 2788, 2791, 2816, 2830, 2849, 2853, 2861, 2862, 2879, 2883, 2887, 2897, 2898, 2912, 2913, 2918, 2920, 2938, 2952, 2966, 2992, 2996, 3005, 3053, 3068, 3071, 3083, 3091, 3101, 3124, 3128, 3138, 3151, 3161, 3166, 3180, 3181, 3187, 3189, 3191, 3201, 3216, 3221, 3225, 3230, 3238, 3239, 3243, 3267, 3270, 3276, 3285, 3291, 3303, 3317, 3337, 3344, 3356, 3368, 3377, 3408, 3421, 3439, 3451, 3452, 3459, 3468, 3470, 3483, 3506, 3509, 3528]\n",
    "# assert len(new_results)  == len(e_r)"
   ]
  },
  {
   "cell_type": "code",
   "execution_count": null,
   "metadata": {},
   "outputs": [],
   "source": [
    "new = [0] * len(datas)\n",
    "for i, v in enumerate(datas):\n",
    "    for j in results:\n",
    "        if j['question'] == v[question_string]:\n",
    "            new[i] = j"
   ]
  },
  {
   "cell_type": "code",
   "execution_count": null,
   "metadata": {},
   "outputs": [],
   "source": [
    "new_index = []\n",
    "for i in results:\n",
    "    for j, v in enumerate(datas):\n",
    "        if i['question'] == v[question_string]:\n",
    "            new_index.append(j)"
   ]
  },
  {
   "cell_type": "code",
   "execution_count": 7,
   "metadata": {},
   "outputs": [
    {
     "name": "stdout",
     "output_type": "stream",
     "text": [
      "# of Correct: 1475\n",
      "# of Wrong: 164\n",
      "Hit@1: 0.8999389871873094\n",
      "[6, 8, 21, 27, 29, 30, 35, 40, 71, 78, 89, 94, 96, 97, 104, 115, 117, 136, 141, 153, 158, 182, 185, 206, 209, 211, 217, 223, 235, 250, 252, 254, 280, 299, 305, 308, 317, 324, 327, 334, 344, 359, 378, 386, 397, 425, 441, 452, 462, 467, 484, 485, 488, 502, 536, 539, 549, 550, 555, 563, 564, 592, 593, 597, 598, 617, 624, 626, 627, 629, 634, 637, 643, 660, 691, 717, 744, 755, 762, 771, 780, 781, 785, 807, 815, 847, 853, 857, 862, 873, 875, 891, 896, 898, 913, 943, 950, 956, 961, 980, 1015, 1023, 1044, 1047, 1049, 1052, 1059, 1060, 1073, 1083, 1085, 1086, 1092, 1097, 1116, 1126, 1143, 1146, 1148, 1152, 1177, 1200, 1226, 1236, 1240, 1242, 1254, 1278, 1280, 1283, 1291, 1348, 1357, 1359, 1371, 1374, 1377, 1381, 1383, 1386, 1387, 1388, 1397, 1400, 1417, 1423, 1427, 1436, 1461, 1481, 1484, 1490, 1495, 1522, 1530, 1536, 1561, 1567, 1573, 1582, 1609, 1631, 1636, 1638]\n"
     ]
    }
   ],
   "source": [
    "hits = []\n",
    "for result in results:\n",
    "    answer = answers[result['question']]\n",
    "    # if all([len(result['paths'][i])==0 for i in result['paths']]):\n",
    "    if match(answer, result['result']) or reverse_match(answer, result['result']):\n",
    "        hits.append(1)\n",
    "        # else:\n",
    "        #     hits.append(0)\n",
    "    else:\n",
    "        hits.append(0)\n",
    "\n",
    "print(\"# of Correct: {}\".format(sum(hits)))\n",
    "print(\"# of Wrong: {}\".format(len(hits)- sum(hits)))\n",
    "print(\"Hit@1: {}\".format(sum(hits) / len(hits)))\n",
    "print([i for i, v in enumerate(hits) if v == 0])"
   ]
  },
  {
   "cell_type": "code",
   "execution_count": 8,
   "metadata": {},
   "outputs": [],
   "source": [
    "for i, v in enumerate(new_index):\n",
    "    if results[v]['question'] == new_results[i]['question']:\n",
    "        answer = answers[results[v]['question']]\n",
    "        # print(1)\n",
    "        \n",
    "        if match(answer, new_results[i]['result']) or reverse_match(answer, new_results[i]['result']):\n",
    "            # results[v]['result'] = new_results[i]['result']\n",
    "            results[v] = new_results[i]\n",
    "        #     print(answer)\n",
    "        #     print(results[v]['result'])\n",
    "        # else:\n",
    "            # results[v]['paths'] = new_results[i]['paths']\n",
    "        #     print(0)\n",
    "    # else:\n",
    "    #     print(i)\n",
    "    #     print(v)"
   ]
  },
  {
   "cell_type": "code",
   "execution_count": 9,
   "metadata": {},
   "outputs": [
    {
     "name": "stdout",
     "output_type": "stream",
     "text": [
      "# of Correct: 1535\n",
      "# of Wrong: 104\n",
      "Hit@1: 0.9365466748017084\n"
     ]
    }
   ],
   "source": [
    "hits = []\n",
    "for result in results:\n",
    "    answer = answers[result['question']]\n",
    "    result = result['result']\n",
    "    if match(answer, result) or reverse_match(answer, result):\n",
    "        hits.append(1)\n",
    "    else:\n",
    "        hits.append(0)\n",
    "        # print(answer)\n",
    "        # print(result)\n",
    "\n",
    "print(\"# of Correct: {}\".format(sum(hits)))\n",
    "print(\"# of Wrong: {}\".format(len(hits)- sum(hits)))\n",
    "print(\"Hit@1: {}\".format(sum(hits) / len(hits)))"
   ]
  },
  {
   "cell_type": "code",
   "execution_count": null,
   "metadata": {},
   "outputs": [],
   "source": [
    "for i in new:\n",
    "    save_2_jsonl('lmp_simpleqa_gpt-4_1hop.jsonl', i)"
   ]
  },
  {
   "cell_type": "code",
   "execution_count": null,
   "metadata": {},
   "outputs": [],
   "source": [
    "all([len(results[0]['paths'][i])==0 for i in results[0]['paths']])"
   ]
  }
 ],
 "metadata": {
  "kernelspec": {
   "display_name": "llm",
   "language": "python",
   "name": "python3"
  },
  "language_info": {
   "codemirror_mode": {
    "name": "ipython",
    "version": 3
   },
   "file_extension": ".py",
   "mimetype": "text/x-python",
   "name": "python",
   "nbconvert_exporter": "python",
   "pygments_lexer": "ipython3",
   "version": "3.10.14"
  }
 },
 "nbformat": 4,
 "nbformat_minor": 2
}
