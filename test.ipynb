{
 "cells": [
  {
   "cell_type": "code",
   "execution_count": 1,
   "metadata": {},
   "outputs": [],
   "source": [
    "from tqdm import tqdm\n",
    "import argparse\n",
    "from utils import *\n",
    "from freebase import *\n",
    "from propagation import *\n",
    "import random\n",
    "\n",
    "\n",
    "\n",
    "parser = argparse.ArgumentParser()\n",
    "parser.add_argument(\"--dataset\", type=str,\n",
    "                    default=\"webqsp\", help=\"choose the dataset from {webqsp, cwq}.\")\n",
    "parser.add_argument(\"--max_length\", type=int,\n",
    "                    default=1024, help=\"the max length of LLMs output.\")\n",
    "parser.add_argument(\"--temperature\", type=float,\n",
    "                    default=0., help=\"the temperature\")\n",
    "parser.add_argument(\"--llm\", type=str,\n",
    "                    default=\"llama\", help=\"choose base LLM model from {llama, gpt-3.5-turbo, gpt-4}.\")\n",
    "parser.add_argument(\"--openai_api_key\", type=str,\n",
    "                    default=\"\", help=\"if the LLM is gpt-3.5-turbo or gpt-4, you need add your own openai api key.\")\n",
    "args = parser.parse_args(\"\")\n",
    "\n",
    "\n",
    "datas, question_string = prepare_dataset(args.dataset)"
   ]
  },
  {
   "cell_type": "code",
   "execution_count": 42,
   "metadata": {},
   "outputs": [
    {
     "name": "stdout",
     "output_type": "stream",
     "text": [
      "when did shaq come into the nba?\n"
     ]
    }
   ],
   "source": [
    "data = datas[1499]\n",
    "question = data[question_string]\n",
    "topics = data['topic_entity']\n",
    "facts, paths = [], []\n",
    "print(question)"
   ]
  },
  {
   "cell_type": "code",
   "execution_count": 43,
   "metadata": {},
   "outputs": [],
   "source": [
    "for topic in topics:\n",
    "    topic_name = topics[topic]\n",
    "    relations = get_relations(question, topic, topic_name, args, 5)\n",
    "    relations = relations[1:]\n",
    "    paths.append({\"entity:\": topic_name, \"relations\": relations})\n",
    "    entities_id, entities_name = get_entities(topic, relations)\n",
    "    topic_prop = direct_propagate(question, topic_name, relations, entities_name, args)\n",
    "    facts += topic_prop\n",
    "prompt = question_prompt.format(\"\\n\".join(facts), question)\n",
    "response = run_llm(prompt, args.temperature, args.max_length, args.openai_api_key, args.llm)\n",
    "\n",
    "output = {\"question\": question, \"result\": response, \"path\": paths, \"prompt\": facts}"
   ]
  },
  {
   "cell_type": "code",
   "execution_count": 44,
   "metadata": {},
   "outputs": [
    {
     "data": {
      "text/plain": [
       "{'question': 'when did shaq come into the nba?',\n",
       " 'result': '  Sure, here are the possible answers to the question \"when did Shaq come into the NBA?\" based on the given information:\\n\\n* 1992',\n",
       " 'path': [{'entity:': \"Shaquille O'Neal\",\n",
       "   'relations': ['sports.drafted_athlete.drafted',\n",
       "    'award.award_nominee.award_nominations',\n",
       "    'award.award_winner.awards_won',\n",
       "    'sports.pro_athlete.career_start']}],\n",
       " 'prompt': [\"Shaquille O'Neal was drafted into the NBA in 1992.\",\n",
       "  \"Shaquille O'Neal has been nominated for numerous awards, including the ESPY Awards, Kids' Choice Awards, and Golden Raspberry Awards.\",\n",
       "  \"Shaquille O'Neal has won several awards, including the NBA Most Valuable Player Award, NBA All-Rookie Team, and Kids' Choice Award for Favorite Male Athlete.\",\n",
       "  \"Shaquille O'Neal's career started in 1992.\"]}"
      ]
     },
     "execution_count": 44,
     "metadata": {},
     "output_type": "execute_result"
    }
   ],
   "source": [
    "output"
   ]
  },
  {
   "cell_type": "code",
   "execution_count": 20,
   "metadata": {},
   "outputs": [],
   "source": [
    "save_2_jsonl(\"lmp_{}_{}.jsonl\".format(args.dataset, args.llm), output)"
   ]
  }
 ],
 "metadata": {
  "kernelspec": {
   "display_name": "llm",
   "language": "python",
   "name": "python3"
  },
  "language_info": {
   "codemirror_mode": {
    "name": "ipython",
    "version": 3
   },
   "file_extension": ".py",
   "mimetype": "text/x-python",
   "name": "python",
   "nbconvert_exporter": "python",
   "pygments_lexer": "ipython3",
   "version": "3.10.14"
  }
 },
 "nbformat": 4,
 "nbformat_minor": 2
}
