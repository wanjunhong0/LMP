{
 "cells": [
  {
   "cell_type": "code",
   "execution_count": null,
   "metadata": {},
   "outputs": [],
   "source": [
    "from tqdm import tqdm\n",
    "import argparse\n",
    "from utils import *\n",
    "from freebase import *\n",
    "from propagation import *\n",
    "import random\n",
    "\n",
    "\n",
    "\n",
    "parser = argparse.ArgumentParser()\n",
    "parser.add_argument(\"--dataset\", type=str,\n",
    "                    default=\"cwq\", help=\"choose the dataset from {webqsp, cwq}.\")\n",
    "parser.add_argument(\"--max_length\", type=int,\n",
    "                    default=1024, help=\"the max length of LLMs output.\")\n",
    "parser.add_argument(\"--temperature\", type=float,\n",
    "                    default=0., help=\"the temperature\")\n",
    "parser.add_argument(\"--llm\", type=str,\n",
    "                    default=\"llama-3\", help=\"choose base LLM model from {llama, gpt-3.5-turbo, gpt-4}.\")\n",
    "parser.add_argument(\"--openai_api_key\", type=str,\n",
    "                    default=\"\", help=\"if the LLM is gpt-3.5-turbo or gpt-4, you need add your own openai api key.\")\n",
    "parser.add_argument('--verbose', action='store_true', help=\"print LLM input and output.\")\n",
    "args = parser.parse_args([\"--verbose\"])\n",
    "\n",
    "\n",
    "datas, question_string = prepare_dataset(args.dataset)"
   ]
  },
  {
   "cell_type": "code",
   "execution_count": null,
   "metadata": {},
   "outputs": [],
   "source": [
    "data = datas[3]\n",
    "question = data[question_string]\n",
    "topics = data['topic_entity']\n",
    "paths = {topics[topic]: {} for topic in topics}\n",
    "print(question)"
   ]
  },
  {
   "cell_type": "code",
   "execution_count": null,
   "metadata": {},
   "outputs": [
    {
     "name": "stdout",
     "output_type": "stream",
     "text": [
      "===================input======================\n",
      "Given the question, we have some new detailed facts about 1 previously summarized facts.\n",
      "\n",
      "question: what countries share borders with france and is the location contains and airport that server Nijmegen\n",
      "\n",
      "Based on the question and previously summarized facts, please summarize each following new detailed fact to better answer question and just return all summarized 1 facts as following order in a numbered list. \n",
      "\n",
      "1. \n",
      "Previous summarized fact: France has many administrative divisions, including departments and regions, but none of them are directly related to Nijmegen.\n",
      "New detailed fact: The topic Paris has relation location.location.contains with following entities: [16th arrondissement; 2nd arrondissement; 3rd arrondissement; 12th arrondissement; 6th arrondissement of Paris; Saint-Nicolas-du-Chardonnet; Pantheon-Sorbonne University; Tour Michelet; Gare de Javel; 19th arrondissement; Le Trabendo; Tour Triangle; University of Paris III: Sorbonne Nouvelle; 7th arrondissement; L'As du Fallafel; NA; NA; La Géode; Conciergerie; Montparnasse; Quai André-Citroën; Rue Saint-Jacques, Paris; Paris Opera Ballet; Mines ParisTech; Montmartre Cemetery; Sainte-Chapelle; Musée Picasso; Musée d'Orsay; Musée de la Franc-Maçonnerie; Gare de Cité Universitaire; Auteuil Hippodrome; Salon Frédéric Chopin; Musée d'Histoire Contemporaine; Rue de la Harpe; Les Invalides; Church of Saint-Sulpice, Paris; Olympia Bruno Coquatrix; Théâtre des Bouffes-Parisiens; Gare d'Orsay; Pantheon-Assas University; Collège Sévigné; Holy Innocents' Cemetery; NA; Goutte d'Or; Saint-Étienne-du-Mont; Maxim's Paris; 18th arrondissement; Carnavalet Museum; Paris Diderot University; 14th arrondissement of Paris]. The topic Lot has relation location.location.contains with following entities: [Gindou; Cras, Lot; Couzou; Promilhanes; Calviac; Gramat; Saint-Daunès; Sousceyrac; Saignes, Lot; NA; Cahors; Lacave, Lot; Biars-sur-Cère; Caniac-du-Causse; Saint-Matré; Célé; NA; Luzech; Puyjourdes; Gorses; Saux; Carennac; Goujounac; Loubressac; Cardaillac; Gourdon; NA; Labastide-Murat; Fontanes, Lot; Lissac-et-Mouret; Pech Merle; Tour-de-Faure; Montvalent; Francoulès; Lac du Tolerme; Durbans; Padirac; Autoire; Saint-Cirgues, Lot; Saint-Céré; Bretenoux; NA; Concots; Souillac, Lot; NA; Capdenac; Léobard; Vidaillac; Dégagnac; Espère]. The topic Doubs has relation location.location.contains with following entities: [Lantenne-Vertière; Flagey-Rigney; Saint-Antoine, Doubs; Le Moutherot; Naisey-les-Granges; NA; NA; Burnevillers; Royal Saltworks at Arc-et-Senans; NA; Montivernage; Autechaux-Roide; Rémondans-Vaivre; Passavant, Doubs; Vaire-le-Petit; Vennans; Les Villedieu; NA; Badevel; Saint-Julien-lès-Russey; Vauchamps, Doubs; containedby: Maîche; Maîche; Loue; Soye; Longemaison; Mérey-sous-Montrond; Échevannes, Doubs; Rougemont, Doubs; Rougemontot; Vellevans; Montbéliard; NA; Goumois, Doubs; Nommay; Morteau; Péseux; Montbenoît; Levier; Geney; University of Franche-Comté; Fleurey; By; Quingey; Aibre; Aïssey; Vorges-les-Pins; Voujeaucourt; Vuillafans; Voires]. The topic Marseille has relation location.location.contains with following entities: [Stade Vélodrome; beam: 43.35, length_overall: 289.6, imo_lr_identification_number: 9306495, ship_builder: Chantiers de l'Atlantique; Université de Provence Aix-Marseille I, Marseille Campus; NA; Marseille Provence Airport; Musée des Beaux-Arts, Marseille; Université de la Méditerranée Aix-Marseille II, Marseille Campus; CMA CGM Tower; Marseille tide gauge; Notre-Dame de la Garde; École centrale de Marseille; beam: 30.2, length_overall: 197.7, imo_lr_identification_number: 9261918; NA; NA; NA; NA; NA; beam: 52.8, imo_lr_identification_number: 9299642, ship_builder: Hyundai Heavy Industries; NA; NA; beam: 53.6, length_overall: 396.0, imo_lr_identification_number: 9454450, ship_builder: Daewoo Shipbuilding & Marine Engineering; containedby: Provence-Alpes-Côte d'Azur; containedby: Provence-Alpes-Côte d'Azur; NA; containedby: Provence-Alpes-Côte d'Azur; Palais Longchamp; Planier Light; Marseille Cathedral; Cabaret Aléatoire; Dock des Suds; Espace Julien; Friche la Belle de MAI; Archange Theater; La Petite Comédie; Vallier Hall]. The topic Marne has relation location.location.contains with following entities: [Reims; Cherville; Fismes; Vanault-le-Châtel; Œuilly, Marne; NA; Huiron; Le Meix-Tiercelin; Queudes; Saint-Memmie; Unchair; Rosnay, Marne; Vinay, Marne; Valmy; Épernay; Cormicy; Oiry; Dampierre-au-Temple; Faverolles-et-Coëmy; Heiltz-le-Hutier; Orbais-l'Abbaye; NA; NA; Aigny; Champaubert; Sézanne; Châlons-en-Champagne; Le Gault-Soigny; Joiselle; Lenharrée; Ville-sur-Tourbe; Reims – Prunay Aerodrome; Saint Pierre de Reims; Le Chemin, France; Outines; Ay; NA; Reims Cathedral; Prouilly; Sillery; NA; NA; Reims-Gueux; Stade Auguste-Delaune II; Porte Mars; Humbauville; Souain-Perthes-lès-Hurlus; Verzy; La Cheppe; Bergères-sous-Montmirail]. The topic Wallis and Futuna has relation location.location.contains with following entities: [Mata-Utu; Alo; Sigavé; Wallis; Futuna; Hoorn Islands; Mont Puke]. The topic Gironde has relation location.location.contains with following entities: [Saint-Vincent-de-Pertignas; Lestiac-sur-Garonne; Saint-Sève; Brannens; Cantois; Saint-Genis-du-Bois; Saint-Médard-d'Eyrans; Taillecavat; NA; Cadarsac; Lalande-de-Pomerol; Saint-André-et-Appelles; Libourne; Floudès; Portets; Le Temple, Gironde; Léogeats; Camiac-et-Saint-Denis; Pugnac; Saugon; Saumos; Marsas, Gironde; Bordeaux-Mérignac Air Base; NA; Hostens; Mios; NA; NA; Saint-Androny; Saint-Sulpice-de-Pommiers; Cudos, Gironde; Taillan-Médoc; NA; Haux, Gironde; CHM Montalivet; Fronsac, Gironde; Saint-Christophe-des-Bardes; Saint-Cibard; Hourtin; Médoc; Landerrouat; Cazalis, Gironde; Sauternes, Gironde; Saint-André-de-Cubzac; Podensac; Lanton; Le Haillan; Cantenac; Ayguemorte-les-Graves; Aillas]. The topic Hauts-de-Seine has relation location.location.contains with following entities: [Bourg-la-Reine; Fontenay-aux-Roses; Val de Seine; Vanves; Boulogne-Billancourt; Châtenay-Malabry; Clichy; Meudon; Rueil-Malmaison; Asnières-sur-Seine; Antony; Colombes; Puteaux; Bois-Colombes; Malakoff; La Défense; Vaucresson; Neuilly-sur-Seine; École Centrale Paris; Courbevoie; Cemetery of Marnes-la-Coquette; Cœur Défense; Tour Égée; Tour Défense 2000; Gare de Clamart; Gare d'Antony; Chaville; Esplanade de La Défense; Clamart; Gare de La Défense; Issy-les-Moulineaux; Gare de Fontaine-Michalon; Suresnes; Sceaux; Sèvres; Garches; Gennevilliers; containedby: Puteaux; NA; Nanterre; NA; Saint-Cloud; Levallois-Perret; Tours Aillaud; Les Grésillons; Neuilly-sur-Seine community cemetery; NA; Arrondissement of Antony; NA; Issy]. The topic Indre-et-Loire has relation location.location.contains with following entities: [Bossay-sur-Claise; Savigné-sur-Lathan; Saunay; Sainte-Maure-de-Touraine; Cigogné; Chinon; Vouvray; Saint-Règle; Avoine, Indre-et-Loire; Preuilly-sur-Claise; Mettray; NA; NA; Ambillou; Bossée; Chambray-lès-Tours; Anché, Indre-et-Loire; Saint-Jean-Saint-Germain; École supérieure de commerce et management; Marcilly-sur-Vienne; Ligueil; Champigny-sur-Veude; Sainte-Catherine-de-Fierbois; Chezelles, Indre-et-Loire; Tours; Grez-Neuville; Saint-Épain; Château de Plessis-lez-Tours; Amboise; Charnizay; Boussay, Indre-et-Loire; containedby: Chançay; Chançay; NA; Azay-sur-Cher; Abilly; Faye-la-Vineuse; Saint-Patrice; Mazières-de-Touraine; Château des Vallées; Chanceaux-sur-Choisille; Saint-Ouen-les-Vignes; Le Louroux; Rochecorbon; Descartes, Indre-et-Loire; Cléré-les-Pins; Richelieu, Indre-et-Loire; Ferrière-Larçon; Auzouer-en-Touraine; Saint-Cyr-sur-Loire]. The topic Vienne has relation location.location.contains with following entities: [Frozes; Tercé; Sanxay; NA; Poitiers; Mirebeau; Arçay, Vienne; Saint-Léger-de-Montbrillais; Brion, Vienne; NA; Berrie, Vienne; NA; Civaux; NA; Saint-Saviol; Oyré; Colombiers, Vienne; Buxerolles, Vienne; Vouillé, Vienne; Saint-Romain, Vienne; Sainte-Radégonde; Maisonneuve, Vienne; Saint-Cyr, Vienne; Ayron; Linazay; Châtellerault; Charroux, Vienne; Couhé; Saint-Macoux; Voulême; Chabournay; Montamisé; La Roche-Rigault; Biard; Smarves; Dissay; Moussac, Vienne; Marigny-Chemereau; Thuré; Gençay; Baptistère Saint-Jean; Gizay; NA; Ranton, Vienne; Usson-du-Poitou; Vaux-sur-Vienne; Sammarçolles; Chouppes; NA; Dangé-Saint-Romain]. The topic Aveyron has relation location.location.contains with following entities: [Fayet; Sainte-Croix; Sauclières; NA; Plaisance; Le Truel; Villecomtal; Ols-et-Rinhodes; Vitrac-en-Viadène; Montrozier; Toulonjac; Graissac; NA; Creissels; Saint-Beauzély; Najac; Saint-Georges-de-Luzençon; Compolibat; NA; Bertholène; La Capelle-Balaguier; Gramond; Compeyre; NA; Rebourguil; Alrance; Decazeville; Saint-Affrique; Espalion; Mur-de-Barrez; Estaing; Entraygues-sur-Truyère; Belcastel; Sainte-Eulalie-d'Olt; Brousse-le-Château; Castelmary; Coupiac; Grand-Vabre; Sébazac-Concourès; La Fouillade; Saujac; NA; Rodez; Boussac, Aveyron; Pont-de-Salars; NA; La Capelle-Bleys; Vézins-de-Lévézou; Lac de Saint-Amans; Lunac, Aveyron]. The topic Calvados has relation location.location.contains with following entities: [Saint-Aubin-sur-Mer, Calvados; Deauville; La Chapelle-Yvon; Cesny-aux-Vignes-Ouézy; Mont Pinçon; Basseneville; Beaumont-en-Auge; Brucourt; Englesqueville-en-Auge; Norolles; Hiéville; Putot-en-Auge; Bernesq; Feuguerolles-Bully; Gouvix; Périers-en-Auge; Villons-les-Buissons; Rocquancourt; Condé-sur-Noireau; Cresseveuille; Ranville; Saint-Pierre-du-Mont; Saint-Ouen-du-Mesnil-Oger; Saint-Rémy, Calvados; NA; Bény-sur-Mer; Saint-Laurent-de-Condel; Beuvron-en-Auge; Canteloup; Cormolain; Dozulé; Le Mesnil-Simon; NA; Stade Michel d'Ornano; Basly; Colleville-Montgomery; La Cambe; Gare de Caen Saint-Martin; Honfleur; La Cambe German war cemetery; Truttemer-le-Grand; Cabourg; Le Reculey; Bayeux; Vaucelles; Danestal; Cossesseville; Saint-Cyr-du-Ronceray; Vaux-sur-Seulles; Tilly-la-Campagne]. The topic Seine-Maritime has relation location.location.contains with following entities: [Canton of Aumale; NA; NA; Sainte-Marguerite-sur-Mer; Eu; NA; Clérette; Le Grand-Quevilly; Fécamp; Goderville; containedby: Ermenouville; Rouen-Les-Essarts; Canton of Sotteville-lès-Rouen-Est; Canton of Darnétal; Arques-la-Bataille; Dieppe; Saint-Rémy-Boscrocourt; La Bouille; Cléon; Darnétal; Fontaine-sous-Préaux; Franqueville-Saint-Pierre; Saint-Martin-du-Vivier; Grand-Couronne; Varengeville-sur-Mer; Moulineaux; Notre-Dame-de-Bondeville; Petit-Couronne; Roncherolles-sur-le-Vivier; Rouxmesnil-Bouteilles; Saint-Aubin-Épinay; Saint-Aubin-lès-Elbeuf; Saint-Jacques-sur-Darnétal; Saint-Léger-du-Bourg-Denis; Saint-Pierre-lès-Elbeuf; Sauqueville; Sotteville-sous-le-Val; Tourville-la-Rivière; Tourville-sur-Arques; Val-de-la-Haye; Caudebec-en-Caux; Jumièges; Doudeville; Saint-Denis-le-Thiboult; Montivilliers; Bois-l'Évêque; Le Tréport; Prétot-Vicquemare; Clères; Sotteville-lès-Rouen]. The topic Ardennes has relation location.location.contains with following entities: [Balaives-et-Butz; Chesnois-Auboncourt; Quatre-Champs; NA; NA; Chéhéry; Fléville; Le Mont-Dieu; Belval; Stonne; Vouziers; Champigneul-sur-Vence; Marcq; Pouru-Saint-Remy; Saint-Quentin-le-Petit; Thelonne; NA; Bignicourt; NA; Grandpré; Bossus-lès-Rumigny; La Francheville; Machault; Rubigny; Damouzy; Renneville; Rimogne; Mont-Saint-Remy; Novy-Chevrières; Thin-le-Moutier; Semide; Bouvellemont; Sévigny-la-Forêt; Revin; Donchery; Cornay; Chooz; Signy-l'Abbaye; Tailly; Chalandry-Elaire; Mont-Laurent; Poix-Terron; NA; Charleville-Mézières; NA; Sedan; Mouzon; Bulson; Ham-les-Moines; Illy]. The topic Franche-Comté has relation location.location.contains with following entities: [Les Rousses; Flagy, Haute-Saône; Lantenne-Vertière; Flagey-Rigney; Montmarlon; Saint-Antoine, Doubs; Le Moutherot; Naisey-les-Granges; Oussières; Rosay, Jura; Senaud; Burnevillers; Auxon, Haute-Saône; Saint-Marcel, Haute-Saône; Montivernage; Autechaux-Roide; Rémondans-Vaivre; Passavant, Doubs; Vaire-le-Petit; Vennans; Bucey-lès-Traves; Saint-Lamain; Santans; Les Villedieu; Badevel; Saint-Julien-lès-Russey; Vauchamps, Doubs; Vevy; NA; Maîche; Doubs; containedby: Gray; Gray; Bouligney; Auvet-et-la-Chapelotte; Soye; Autet; Longemaison; Mérey-sous-Montrond; Échevannes, Doubs; Dampierre, Jura; Lect, Jura; Pimorin; Dole; Rougemont, Doubs; Rougemontot; Vellevans; Montbéliard; Grosne; Goumois, Doubs]. The topic Nord has relation location.location.contains with following entities: [Hondschoote; Cambrai; Templeuve; Bantigny; Saint-Aybert; NA; Houplines; NA; Condé-sur-l'Escaut; Émerchicourt; Felleries; Aulnoy-lez-Valenciennes; NA; Bouvines; Hecq; Jeumont; Gaul; Caudry; Esquerchin; Raismes; Templemars; Anneux; NA; Phalempin; Bauvin; Auberchicourt; Borre; Maurois; NA; Roubaix; Gognies-Chaussée; NA; École centrale de Lille; Douai; Hélesmes; Saint-Saulve; Seclin; Maroilles; Hasnon; Maing; Marly, Nord; Damousies; Lille; Bavay; Valenciennes; Lomme; Dunkirk; NA; Inchy; Aix, Nord]. The topic Charente has relation location.location.contains with following entities: [Souvigné, Charente; Châteaubernard; Reignac, Charente; Les Métairies; Rouffiac, Charente; Angeac-Champagne; Mouton, Charente; Saint-Maurice-des-Lions; Salles-de-Barbezieux; Vieux-Ruffec; Graves-Saint-Amant; Saint-Mary; NA; NA; Saint-Sulpice-de-Cognac; Salles-d'Angles; Vaux-Rouillac; Xambes; Chassors; Champagne-Mouton; Angoulême; Bellon, Charente; Roumazières-Loubert; Saint-Cybardeaux; Saint-Groux; Triac-Lautrait; Bassac, Charente; NA; NA; Brie-sous-Barbezieux; Marcillac-Lanville; Verrières, Charente; Pleuville; Barbezieux-Saint-Hilaire; NA; Genac; La Rochette, Charente; Garat, Charente; Luxé; Coulgens; Genté; Ambleville, Charente; Lupsault; Massignac; Pranzac; Aignes-et-Puypéroux; Cellettes, Charente; Suris; containedby: Puymoyen; Gondeville]. The topic Rhône has relation location.location.contains with following entities: [Church of Saint-Bruno des Chartreux; Tunnel de la Croix-Rousse; Saint-Étienne-la-Varenne; Saint-Laurent-de-Mure; Charentay; NA; La Chapelle-sur-Coise; Givors; Charbonnières-les-Bains; Sainte-Foy-lès-Lyon; containedby: Metropolis of Lyon; Halle Tony Garnier; Vénissieux; NA; Thurins; Vaulx-en-Velin; L'Arbresle; Sain-Bel; Belleville; Tour du Crédit Lyonnais; Saint-Léger; Grigny, Metropolis of Lyon; Caluire-et-Cuire; Condrieu; Saint-Priest; Genay, Rhône; Écully; Pierre-Bénite; Saint-Lager; Tarare; NA; Villeurbanne; Abode of Chaos; Place Bellecour; Lyon Cathedral; Taluyers; Cenves; Lyon; Saint-Sorlin, Rhône; Palais des Sports de Gerland; Oullins; NA; Montmelas-Saint-Sorlin; Tassin-la-Demi-Lune; Villefranche-sur-Saône; Meys; Saint-Jacques-des-Arrêts; Yzeron; Les Chères; Chasselay, Rhône]. The topic Alpes-Maritimes has relation location.location.contains with following entities: [Nice Observatory; Valbonne; Daluis; Saint-Étienne-de-Tinée; Touët-sur-Var; Notre-Dame de Nice; Col des Champs; Col d'Andrion; Col Saint Martin; Mont Agel; Col de Turini; Col de la Bonette; Grasse; Tinée; Vionène; Biot; Saint-Martin-d'Entraunes; Les Ferres; La Tour; Gars; NA; NA; Cannes; Villefranche-sur-Mer; Menton; Cimetière du Grand Jas; Pont de la Mescla; Nice; NA; NA; Isola; Robiac Cemetery; Stade du Fort Carré; Colomars; Saint-Léger; mcsi Nice Sophia Antipolis; Lucéram; Cap-d'Ail; Vence; La Bollène-Vésubie; Saint-Antonin; NA; Palais des Festivals et des Congrès; Cuébris; NA; NA; Cipières; Promenade de la Croisette; NA; Castillon]. The topic Maine-et-Loire has relation location.location.contains with following entities: [Louerre; Cossé-d'Anjou; Courléon; Villemoisan; Landemont; Baracé; La Chapelle-du-Genêt; NA; Louvaines; Beaupréau; Angers; NA; Bécon-les-Granits; Doué-la-Fontaine; Les Ponts-de-Cé; Candé; University of Angers; Noëllet; Baugé; Sainte-Christine, Maine-et-Loire; Melay, Maine-et-Loire; Saint-Sylvain-d'Anjou; Saint-Barthélemy-d'Anjou; Saint-Christophe-du-Bois; Saint-Clément-de-la-Place; Sainte-Gemmes-sur-Loire; Saint-Jean-de-Linières; Saint-Just-sur-Dive; Saint-Lambert-la-Potherie; Saint-Léger-des-Bois; Saint-Léger-sous-Cholet; Sarrigné; La Séguinière; Soucelles; Souzay-Champigny; La Tessoualle; Toutlemonde; Trélazé; Trémentines; Turquant; Varennes-sur-Loire; Varrains; Vaudelnay; Verrie; Villebernier; Villevêque; Vivy; Savennières; Le Puy-Notre-Dame; Combrée].\n",
      "\n",
      "===================output======================\n",
      "Here are the summarized facts:\n",
      "\n",
      "1. The topic Paris has relation with many locations within Paris, including several arrondissements, universities, landmarks, and cemeteries.\n",
      "\n",
      "Note: There is no information related to Nijmegen or airport serving Nijmegen in the provided facts.\n"
     ]
    }
   ],
   "source": [
    "# for topic in topics:\n",
    "for topic in topics:\n",
    "    topic_name = topics[topic]\n",
    "    # 1-hop propagation\n",
    "    relations = get_relations(question, topic, topic_name, args, 3)\n",
    "    entities_id, entities_name = get_entities(topic, relations)\n",
    "    [paths[topic_name].update({r: {\"entities_id\": entities_id[i], \"entities_name\": entities_name[i]}}) for i, r in enumerate(relations)]\n",
    "    facts = propagate(question, topic_name, relations, paths[topic_name], 1, args)\n",
    "    [paths[topic_name][r].update({\"fact\": facts[i]}) for i, r in enumerate(relations)]\n",
    "    # 2-hop propagation\n",
    "    relations = get_relations_distant(question, topic, topic_name, relations, paths[topic_name], args, 3)\n",
    "    entities_id, entities_name = get_entities_distant(paths[topic_name], relations)\n",
    "    [paths[topic_name].update({r: {\"entities_id\": entities_id[i], \"entities_name\": entities_name[i]}}) for i, r in enumerate(relations)]\n",
    "    facts = propagate(question, topic_name, relations, paths[topic_name], 2, args)\n",
    "    [paths[topic_name][r].update({\"fact\": facts[i], \"entities_id\": sum(entities_id[i], []), \"entities_name\": sum(entities_name[i], [])}) for i, r in enumerate(relations)]\n",
    "    # # 3-hop propagation\n",
    "    relations = get_relations_distant(question, topic, topic_name, relations, paths[topic_name], args, 3)\n",
    "    entities_id, entities_name = get_entities_distant(paths[topic_name], relations)\n",
    "    [paths[topic_name].update({r: {\"entities_id\": entities_id[i], \"entities_name\": entities_name[i]}}) for i, r in enumerate(relations)]\n",
    "    facts = propagate(question, topic_name, relations, paths[topic_name], 3, args)\n",
    "    [paths[topic_name][r].update({\"fact\": facts[i]}) for i, r in enumerate(relations)]\n",
    "    # # clean paths\n",
    "    [paths[topic_name].update({r: paths[topic_name][r]['fact']}) for r in paths[topic_name]]\n"
   ]
  },
  {
   "cell_type": "code",
   "execution_count": null,
   "metadata": {},
   "outputs": [],
   "source": [
    "facts = construct_facts(paths, topics)\n",
    "prompt = question_prompt.format(facts, question)\n",
    "response = run_llm(prompt, args.temperature, args.max_length, args.openai_api_key, args.llm, args.verbose)\n",
    "output = {\"question\": question, \"result\": response, \"paths\": paths}"
   ]
  },
  {
   "cell_type": "code",
   "execution_count": null,
   "metadata": {},
   "outputs": [],
   "source": [
    "relations"
   ]
  }
 ],
 "metadata": {
  "kernelspec": {
   "display_name": "llm",
   "language": "python",
   "name": "python3"
  },
  "language_info": {
   "codemirror_mode": {
    "name": "ipython",
    "version": 3
   },
   "file_extension": ".py",
   "mimetype": "text/x-python",
   "name": "python",
   "nbconvert_exporter": "python",
   "pygments_lexer": "ipython3",
   "version": "3.9.19"
  }
 },
 "nbformat": 4,
 "nbformat_minor": 2
}
