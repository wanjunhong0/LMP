{
 "cells": [
  {
   "cell_type": "code",
   "execution_count": 1,
   "metadata": {},
   "outputs": [],
   "source": [
    "from tqdm import tqdm\n",
    "import argparse\n",
    "from utils import *\n",
    "from freebase import *\n",
    "from propagation import *\n",
    "import random\n",
    "\n",
    "\n",
    "\n",
    "parser = argparse.ArgumentParser()\n",
    "parser.add_argument(\"--dataset\", type=str,\n",
    "                    default=\"webqsp\", help=\"choose the dataset from {webqsp, cwq}.\")\n",
    "parser.add_argument(\"--max_length\", type=int,\n",
    "                    default=1024, help=\"the max length of LLMs output.\")\n",
    "parser.add_argument(\"--temperature\", type=float,\n",
    "                    default=0., help=\"the temperature\")\n",
    "parser.add_argument(\"--llm\", type=str,\n",
    "                    default=\"llama-3\", help=\"choose base LLM model from {llama, gpt-3.5-turbo, gpt-4}.\")\n",
    "parser.add_argument(\"--openai_api_key\", type=str,\n",
    "                    default=\"\", help=\"if the LLM is gpt-3.5-turbo or gpt-4, you need add your own openai api key.\")\n",
    "args = parser.parse_args(\"\")\n",
    "\n",
    "\n",
    "datas, question_string = prepare_dataset(args.dataset)"
   ]
  },
  {
   "cell_type": "code",
   "execution_count": 20,
   "metadata": {},
   "outputs": [
    {
     "name": "stdout",
     "output_type": "stream",
     "text": [
      "what degrees did barack obama get?\n"
     ]
    }
   ],
   "source": [
    "data = datas[1584]\n",
    "question = data[question_string]\n",
    "topics = data['topic_entity']\n",
    "facts, paths, propagate_list = [], [], []\n",
    "print(question)"
   ]
  },
  {
   "cell_type": "code",
   "execution_count": 21,
   "metadata": {},
   "outputs": [],
   "source": [
    "for topic in topics:\n",
    "    topic_name = topics[topic]\n",
    "    relations = get_relations(question, topic, topic_name, args, 5)\n",
    "    paths.append({\"entity:\": topic_name, \"relations\": relations})\n",
    "    entities_id, entities_name = get_entities(topic, relations)\n",
    "    propagate_list += get_propagate_list(topic_name, relations, entities_name)"
   ]
  },
  {
   "cell_type": "code",
   "execution_count": 10,
   "metadata": {},
   "outputs": [],
   "source": [
    "facts = propagate(question, propagate_list, args)\n",
    "prompt = question_prompt.format(\"\\n\".join(facts), question)\n",
    "response = run_llm(prompt, args.temperature, args.max_length, args.openai_api_key, args.llm)\n",
    "output = {\"question\": question, \"result\": response, \"path\": paths, \"prompt\": facts}"
   ]
  },
  {
   "cell_type": "code",
   "execution_count": 11,
   "metadata": {},
   "outputs": [
    {
     "name": "stdout",
     "output_type": "stream",
     "text": [
      "{'question': 'what degrees did barack obama get?', 'result': 'Here are the degrees Barack Obama received:\\n\\n1. Bachelor of Arts degree in Political Science with a specialization in International Relations\\n2. Juris Doctor degree', 'path': [{'entity:': 'Barack Obama', 'relations': ['education.honorary_degree_recipient.honorary_degrees', 'government.politician.government_positions_held', 'people.person.education', 'people.person.employment_history', 'people.person.profession']}], 'prompt': ['Barack Obama has multiple professions, including Politician, Author, Law professor, Writer, and Lawyer.', 'He received an honorary degree from the University of Michigan in 2010.', '(Not relevant to degrees)', 'Barack Obama earned a Bachelor of Arts degree in Political Science with a specialization in International Relations from Columbia University (1981-1983) and a Juris Doctor degree from Harvard Law School (1988-1991).', '(Not relevant to degrees)']}\n"
     ]
    }
   ],
   "source": [
    "print(output)"
   ]
  },
  {
   "cell_type": "code",
   "execution_count": 25,
   "metadata": {},
   "outputs": [
    {
     "data": {
      "text/plain": [
       "[{'r': {'type': 'uri',\n",
       "   'value': 'http://rdf.freebase.com/ns/business.employment_tenure.company'}},\n",
       " {'r': {'type': 'uri',\n",
       "   'value': 'http://rdf.freebase.com/ns/type.object.type'}},\n",
       " {'r': {'type': 'uri',\n",
       "   'value': 'http://rdf.freebase.com/ns/business.employment_tenure.from'}},\n",
       " {'r': {'type': 'uri',\n",
       "   'value': 'http://rdf.freebase.com/ns/business.employment_tenure.title'}},\n",
       " {'r': {'type': 'uri',\n",
       "   'value': 'http://rdf.freebase.com/ns/business.employment_tenure.to'}}]"
      ]
     },
     "execution_count": 25,
     "metadata": {},
     "output_type": "execute_result"
    }
   ],
   "source": [
    "sparql_head_relations_2hop = \"\"\"\n",
    "PREFIX ns: <http://rdf.freebase.com/ns/>\n",
    "SELECT DISTINCT ?r\n",
    "WHERE {\n",
    "ns:%s ns:%s ?e . \n",
    "FILTER(?e1 != ns:%s)\n",
    "?e ?r ?e1 .\n",
    "}\n",
    "\"\"\"\n",
    "execute_sparql(sparql_head_relations_2hop % (topic, relations[3], topic))"
   ]
  }
 ],
 "metadata": {
  "kernelspec": {
   "display_name": "llm",
   "language": "python",
   "name": "python3"
  },
  "language_info": {
   "codemirror_mode": {
    "name": "ipython",
    "version": 3
   },
   "file_extension": ".py",
   "mimetype": "text/x-python",
   "name": "python",
   "nbconvert_exporter": "python",
   "pygments_lexer": "ipython3",
   "version": "3.9.19"
  }
 },
 "nbformat": 4,
 "nbformat_minor": 2
}
