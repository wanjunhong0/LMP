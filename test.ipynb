{
 "cells": [
  {
   "cell_type": "code",
   "execution_count": 1,
   "metadata": {},
   "outputs": [],
   "source": [
    "from tqdm import tqdm\n",
    "import argparse\n",
    "from utils import *\n",
    "from freebase import *\n",
    "from propagation import *\n",
    "import random\n",
    "\n",
    "\n",
    "\n",
    "parser = argparse.ArgumentParser()\n",
    "parser.add_argument(\"--dataset\", type=str,\n",
    "                    default=\"cwq\", help=\"choose the dataset from {webqsp, cwq}.\")\n",
    "parser.add_argument(\"--max_length\", type=int,\n",
    "                    default=1024, help=\"the max length of LLMs output.\")\n",
    "parser.add_argument(\"--temperature\", type=float,\n",
    "                    default=0., help=\"the temperature\")\n",
    "parser.add_argument(\"--llm\", type=str,\n",
    "                    default=\"llama-3\", help=\"choose base LLM model from {llama, gpt-3.5-turbo, gpt-4}.\")\n",
    "parser.add_argument(\"--openai_api_key\", type=str,\n",
    "                    default=\"\", help=\"if the LLM is gpt-3.5-turbo or gpt-4, you need add your own openai api key.\")\n",
    "args = parser.parse_args(\"\")\n",
    "\n",
    "\n",
    "datas, question_string = prepare_dataset(args.dataset)"
   ]
  },
  {
   "cell_type": "code",
   "execution_count": 2,
   "metadata": {},
   "outputs": [
    {
     "name": "stdout",
     "output_type": "stream",
     "text": [
      "What is the predominant religion where the leader is Ovadia Yosef?\n"
     ]
    }
   ],
   "source": [
    "data = datas[2]\n",
    "question = data[question_string]\n",
    "topics = data['topic_entity']\n",
    "paths = {topics[topic]: {} for topic in topics}\n",
    "print(question)"
   ]
  },
  {
   "cell_type": "code",
   "execution_count": 3,
   "metadata": {},
   "outputs": [],
   "source": [
    "for topic in topics:\n",
    "    topic_name = topics[topic]\n",
    "    relations = get_relations(question, topic, topic_name, args, 5)\n",
    "    entities_id, entities_name = get_entities(topic, relations)\n",
    "    [paths[topic_name].update({r: {\"entities_id\": entities_id[i], \"entities_name\": entities_name[i]}}) for i, r in enumerate(relations)]\n",
    "    facts = propagate(question, topic_name, paths[topic_name], args)\n",
    "    [paths[topic_name][r].update({\"fact\": facts[i]}) for i, r in enumerate(relations)]"
   ]
  },
  {
   "cell_type": "code",
   "execution_count": 7,
   "metadata": {},
   "outputs": [],
   "source": [
    "for topic in topics:\n",
    "    topic_name = topics[topic]\n",
    "    relations = get_relations_2hop(question, topic, topic_name, paths[topic_name], args, 3)\n",
    "    entities_id, entities_name = get_entities_2hop_(paths[topic_name], relations)\n",
    "    [paths[topic_name].update({r: {\"entities_id\": entities_id[i], \"entities_name\": entities_name[i]}}) for i, r in enumerate(relations)]\n",
    "\n",
    "    # facts = propagate(question, propagate_list, args)\n",
    "    # [paths[topic_name][r].update({\"fact\": facts[i]}) for i, r in enumerate(relations)]"
   ]
  },
  {
   "cell_type": "code",
   "execution_count": null,
   "metadata": {},
   "outputs": [],
   "source": [
    "def get_entities_2hop_(paths, relations):\n",
    "    ids, names = [], []\n",
    "    for relation in relations:\n",
    "        entities_id, entities_name = [], []\n",
    "        topics = paths[relation.split('->')[-2]]['entities_id']\n",
    "        for topic in topics:\n",
    "            tail_entities = execute_sparql(sparql_tail_entities % (topic, relation.split('->')[-1]))\n",
    "            ### !!! some relations like m.04n32 --> music.artist.track has 8477 tail entities\n",
    "            tail_entities_id, tail_entities_name = filter_entities(tail_entities[:50], topic) \n",
    "            entities_id.append(tail_entities_id)\n",
    "            entities_name.append(tail_entities_name)\n",
    "        ids.append(entities_id)\n",
    "        names.append(entities_name)\n",
    "    return ids, names"
   ]
  },
  {
   "cell_type": "code",
   "execution_count": 6,
   "metadata": {},
   "outputs": [
    {
     "data": {
      "text/plain": [
       "([[['m.0468s5y']],\n",
       "  [['m.048bcbz']],\n",
       "  [['m.02wvcg4', 'm.05px4', 'm.02746s4', 'm.05pyj', 'm.02zpl5', 'm.017tgt'],\n",
       "   []]],\n",
       " [[['percentage: 75.5, religion: Judaism']],\n",
       "  [['end_date: 1983, start_date: 1973, organization: Chief Rabbinate of Israel, role: Chief Rabbi, leader: Ovadia Yosef']],\n",
       "  [['Entering Heaven alive',\n",
       "    'Omnipotence',\n",
       "    'Unitarian monotheism',\n",
       "    'Omniscience',\n",
       "    'Tikkun olam',\n",
       "    'Divine simplicity'],\n",
       "   []]])"
      ]
     },
     "execution_count": 6,
     "metadata": {},
     "output_type": "execute_result"
    }
   ],
   "source": [
    "get_entities_2hop_(paths[topic_name], relations)"
   ]
  },
  {
   "cell_type": "code",
   "execution_count": null,
   "metadata": {},
   "outputs": [],
   "source": [
    "facts = []\n",
    "for i in paths:\n",
    "    for j in paths[i]:\n",
    "        fact = paths[i][j]['fact']\n",
    "        facts.append(fact)\n",
    "        paths[i].update({j: fact})\n",
    "prompt = question_prompt.format(\"\\n\".join(facts), question)\n",
    "response = run_llm(prompt, args.temperature, args.max_length, args.openai_api_key, args.llm)\n",
    "output = {\"question\": question, \"result\": response, \"paths\": paths}"
   ]
  },
  {
   "cell_type": "code",
   "execution_count": 8,
   "metadata": {},
   "outputs": [
    {
     "data": {
      "text/plain": [
       "{'people.deceased_person.place_of_burial': {'entities_id': ['m.0n5vjkf'],\n",
       "  'entities_name': ['Sanhedria Cemetery'],\n",
       "  'fact': 'Ovadia Yosef is buried in Sanhedria Cemetery.'},\n",
       " 'people.person.nationality': {'entities_id': ['m.03spz'],\n",
       "  'entities_name': ['Israel'],\n",
       "  'fact': 'Ovadia Yosef is an Israeli national.'},\n",
       " 'people.person.profession': {'entities_id': ['m.0djbw'],\n",
       "  'entities_name': ['Rabbi'],\n",
       "  'fact': 'Ovadia Yosef is a Rabbi by profession.'},\n",
       " 'people.person.religion': {'entities_id': ['m.03_gx', 'm.0f2qf'],\n",
       "  'entities_name': ['Judaism', 'Haredi Judaism'],\n",
       "  'fact': 'Ovadia Yosef practices Judaism, specifically Haredi Judaism.'},\n",
       " 'religion.religious_leader.religious_leadership': {'entities_id': ['m.048bcbz'],\n",
       "  'entities_name': ['end_date: 1983, start_date: 1973, organization: Chief Rabbinate of Israel, role: Chief Rabbi, jurisdiction: Israel'],\n",
       "  'fact': 'Ovadia Yosef served as the Chief Rabbi of Israel from 1973 to 1983.'},\n",
       " 'people.person.nationality->location.statistical_region.religions': {'entities_id': [['m.0468s5y']],\n",
       "  'entities_name': [['percentage: 75.5, religion: Judaism']]},\n",
       " 'people.person.nationality->religion.religious_leadership_jurisdiction.leader': {'entities_id': [['m.048bcbz']],\n",
       "  'entities_name': [['end_date: 1983, start_date: 1973, organization: Chief Rabbinate of Israel, role: Chief Rabbi, leader: Ovadia Yosef']]},\n",
       " 'people.person.religion->religion.religion.beliefs': {'entities_id': [['m.02wvcg4',\n",
       "    'm.05px4',\n",
       "    'm.02746s4',\n",
       "    'm.05pyj',\n",
       "    'm.02zpl5',\n",
       "    'm.017tgt'],\n",
       "   []],\n",
       "  'entities_name': [['Entering Heaven alive',\n",
       "    'Omnipotence',\n",
       "    'Unitarian monotheism',\n",
       "    'Omniscience',\n",
       "    'Tikkun olam',\n",
       "    'Divine simplicity'],\n",
       "   []]}}"
      ]
     },
     "execution_count": 8,
     "metadata": {},
     "output_type": "execute_result"
    }
   ],
   "source": [
    "paths[topic_name]"
   ]
  },
  {
   "cell_type": "code",
   "execution_count": null,
   "metadata": {},
   "outputs": [],
   "source": [
    "len(paths[topic_name])"
   ]
  }
 ],
 "metadata": {
  "kernelspec": {
   "display_name": "llm",
   "language": "python",
   "name": "python3"
  },
  "language_info": {
   "codemirror_mode": {
    "name": "ipython",
    "version": 3
   },
   "file_extension": ".py",
   "mimetype": "text/x-python",
   "name": "python",
   "nbconvert_exporter": "python",
   "pygments_lexer": "ipython3",
   "version": "3.9.19"
  }
 },
 "nbformat": 4,
 "nbformat_minor": 2
}
