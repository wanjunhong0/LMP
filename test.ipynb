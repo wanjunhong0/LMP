{
 "cells": [
  {
   "cell_type": "code",
   "execution_count": 1,
   "metadata": {},
   "outputs": [],
   "source": [
    "from tqdm import tqdm\n",
    "import argparse\n",
    "from utils import *\n",
    "from freebase import *\n",
    "from propagation import *\n",
    "import random\n",
    "\n",
    "\n",
    "parser = argparse.ArgumentParser()\n",
    "parser.add_argument(\"--dataset\", type=str,\n",
    "                    default=\"webqsp\", help=\"choose the dataset from {webqsp, cwq}.\")\n",
    "parser.add_argument(\"--max_length\", type=int,\n",
    "                    default=1024, help=\"the max length of LLMs output.\")\n",
    "parser.add_argument(\"--temperature\", type=float,\n",
    "                    default=0., help=\"the temperature\")\n",
    "parser.add_argument(\"--llm\", type=str,\n",
    "                    default=\"llama\", help=\"choose base LLM model from {llama, gpt-3.5-turbo, gpt-4}.\")\n",
    "parser.add_argument(\"--openai_api_key\", type=str,\n",
    "                    default=\"\", help=\"if the LLM is gpt-3.5-turbo or gpt-4, you need add your own openai api key.\")\n",
    "args = parser.parse_args(\"\")\n",
    "\n",
    "\n",
    "datas, question_string = prepare_dataset(args.dataset)"
   ]
  },
  {
   "cell_type": "code",
   "execution_count": 142,
   "metadata": {},
   "outputs": [],
   "source": [
    "data = datas[11]\n",
    "question = data[question_string]\n",
    "topics = data['topic_entity']\n",
    "for topic in topics:\n",
    "    topic_name = topics[topic]"
   ]
  },
  {
   "cell_type": "code",
   "execution_count": 174,
   "metadata": {},
   "outputs": [],
   "source": [
    "\n",
    "head_relations = execurte_sparql(sparql_head_relations % topic)\n",
    "head_relations = filter_relations(head_relations)\n",
    "\n",
    "prompt = relations_reduced_prompt.format(5, question, topic_name, head_relations)\n",
    "response = run_llm(prompt, 0.1, args.max_length, args.openai_api_key, args.llm)\n",
    "        \n",
    "response_list = re.sub(r'\\n[0-99]?(spoilers)?', ' ', response.lower()).split(' ')\n",
    "response_list = [i.strip(\"'[]\") for i in response_list if i.count('.') > 1]\n",
    "reduced_relations = []\n",
    "for relation in head_relations:\n",
    "    if relation in response_list:\n",
    "        reduced_relations.append(relation)\n",
    "\n",
    "\n",
    "\n",
    "\n"
   ]
  },
  {
   "cell_type": "code",
   "execution_count": 175,
   "metadata": {},
   "outputs": [
    {
     "name": "stdout",
     "output_type": "stream",
     "text": [
      "  Sure, here are the top 5 relations relevant to the topic \"Drew Brees\" based on the question \"where did drew brees go to college wikianswers?\":\n",
      "\n",
      "1. 'people.person.education' - This relation represents the educational background of a person, which is relevant to the question about Drew Brees' college education.\n",
      "2. 'american_football.football_player.position_s' - This relation represents the position played by a football player, which is relevant to Drew Brees' career as a football quarterback.\n",
      "3. 'american_football.football_player.games' - This relation represents the number of games played by a football player, which is relevant to Drew Brees' longevity and experience in the NFL.\n",
      "4. 'american_football.football_player.passing' - This relation represents the passing statistics of a football player, which is relevant to Drew Brees' role as a quarterback.\n",
      "5. 'people.person.date_of_birth' - This relation represents the date of birth of a person, which is relevant to Drew Brees' age and personal information.\n",
      "\n",
      "Therefore, the top 5 relations relevant to the topic \"Drew Brees\" based on the question \"where did drew brees go to college wikianswers?\" are:\n",
      "\n",
      "1. 'people.person.education'\n",
      "2. 'american_football.football_player.position_s'\n",
      "3. 'american_football.football_player.games'\n",
      "4. 'american_football.football_player.passing'\n",
      "5. 'people.person.date_of_birth'\n"
     ]
    }
   ],
   "source": [
    "print(response)"
   ]
  },
  {
   "cell_type": "code",
   "execution_count": 176,
   "metadata": {},
   "outputs": [
    {
     "data": {
      "text/plain": [
       "['people.person.education',\n",
       " 'american_football.football_player.position_s',\n",
       " 'american_football.football_player.games',\n",
       " 'american_football.football_player.passing',\n",
       " 'people.person.date_of_birth',\n",
       " 'people.person.education',\n",
       " 'american_football.football_player.position_s',\n",
       " 'american_football.football_player.games',\n",
       " 'american_football.football_player.passing',\n",
       " 'people.person.date_of_birth']"
      ]
     },
     "execution_count": 176,
     "metadata": {},
     "output_type": "execute_result"
    }
   ],
   "source": [
    "response_list"
   ]
  },
  {
   "cell_type": "code",
   "execution_count": 154,
   "metadata": {},
   "outputs": [
    {
     "name": "stdout",
     "output_type": "stream",
     "text": [
      "Based on the question, please select the most relevant relations of the topic and just return at most 5 relations as a list.\n",
      "\n",
      "question :where did drew brees go to college wikianswers?\n",
      "topic: Drew Brees\n",
      "relations: ['american_football.football_player.forty_yard_dash_time', 'award.award_nominee.award_nominations', 'award.award_winner.awards_won', 'kg.object_profile.prominent_type', 'people.person.children', 'people.person.date_of_birth', 'people.person.education', 'people.person.gender', 'people.person.height_meters', 'people.person.nationality', 'people.person.parents', 'people.person.place_of_birth', 'people.person.places_lived', 'people.person.profession', 'people.person.spouse_s', 'people.person.weight_kg', 'sports.pro_athlete.sports_played_professionally', 'sports.pro_athlete.teams', 'sports.pro_athlete.career_start', 'american_football.football_player.position_s', 'base.schemastaging.athlete_extra.salary', 'symbols.namesake.named_after', 'tv.tv_actor.guest_roles', 'base.schemastaging.context_name.nickname', 'base.schemastaging.person_extra.net_worth', 'american_football.football_player.games', 'american_football.football_player.receiving', 'american_football.football_player.rushing', 'user.szaijan.fantasy_football.player.nfl_team', 'user.szaijan.fantasy_football.player.position', 'user.szaijan.fantasy_football.player.projection', 'american_football.football_player.passing', 'base.disaster2.injured_person.injuries']\n",
      "\n"
     ]
    }
   ],
   "source": [
    "print(prompt)"
   ]
  },
  {
   "cell_type": "code",
   "execution_count": 137,
   "metadata": {},
   "outputs": [],
   "source": [
    "entities_id, entities_name = get_entities(topic, relations)"
   ]
  },
  {
   "cell_type": "code",
   "execution_count": 138,
   "metadata": {},
   "outputs": [],
   "source": [
    "direct_propagate_prompt = \"\"\" Given the question and {} related facts of its topic, please summarize each fact while keeping anything useful to answer the question and return each summarized fact as a list.\n",
    "\n",
    "question: {}\n",
    "\n",
    "fact:\"\"\"\n",
    "def direct_propagate(question, topic, relations, entities_name, args):\n",
    "    n = len(relations)\n",
    "    line_breaks = ['\\n{}. '.format(i+1) for i in range(n)]\n",
    "    prompt = direct_propagate_prompt.format(n, question)\n",
    "    for i in range(len(relations)):\n",
    "        prompt += '{}the topic {} has relation {} with following entities {}. '.format(line_breaks[i], topic, relations[i], entities_name[i])\n",
    "    response = run_llm(prompt, args.temperature, args.max_length, args.openai_api_key, args.llm)\n",
    "    while re.findall(r'\\n[0-99]. ', response) != line_breaks:\n",
    "        print('Propagation format unmatched. Retrying...')\n",
    "        print(response)\n",
    "        response = run_llm(prompt, 0.5, args.max_length, args.openai_api_key, args.llm)\n",
    "    \n",
    "    output = [i[i.find(\" \")+1:] for i in response.split('\\n') if re.match(\"^[0-99]. \", i)] # select string start with number. and remove it e.g. 1. \n",
    "\n",
    "\n",
    "    return prompt, output\n",
    "\n",
    "prompt, topic_prop = direct_propagate(question, topic_name, relations, entities_name, args)"
   ]
  },
  {
   "cell_type": "code",
   "execution_count": 139,
   "metadata": {},
   "outputs": [
    {
     "name": "stdout",
     "output_type": "stream",
     "text": [
      " Given the question and 5 related facts of its topic, please summarize each fact while keeping anything useful to answer the question and return each summarized fact as a list.\n",
      "\n",
      "question: who influenced samuel taylor coleridge?\n",
      "\n",
      "fact:\n",
      "1. the topic Samuel Taylor Coleridge has relation book.author.works_written with following entities ['Christabel', 'complete poetical works of Samuel Taylor Coleridge', 'Kubla Khan', 'poems and dramatic works of Samuel Taylor Coleridge', 'Table talk', 'The Notebooks of Samuel Taylor Coleridge, Volume 3', 'The Notebooks of Samuel Taylor Coleridge, Volume 4 : 1819-1826', 'The Notebooks of Samuel Taylor Coleridge, Volume 5: 1827-1834', 'Lyrical ballads, with other poems', 'The Rime of the Ancient Mariner', 'The Lucy poems', 'Biographia Literaria', 'On the constitution of the Church and State', \"Coleridge's writings.\", 'Poems of nature and romance, 1794-1807', 'Samuel Taylor Coleridge', 'The portable Coleridge', 'The Collected Works of Samuel Taylor Coleridge, Volume 7', 'The Collected Works of Samuel Taylor Coleridge, Volume 8 : Lectures 1818-1819 : On the History of Philosophy', \"S.T. Coleridge's Treatise on method\", 'The Collected Works of Samuel Taylor Coleridge, Volume 12: Marginalia: Part 2, Camden to Hutton', 'To Mrs Siddons', 'Inquiring spirit', 'Aids to reflection', 'Confessions of an inquiring spirit', 'poems of Samuel Taylor Coleridge', 'To Fayette', 'The watchman', 'The Collected Works of Samuel Taylor Coleridge, Volume 12: Marginalia: Part 1, Abbt to Byfield', 'The Collected Works of Samuel Taylor Coleridge, Volume 12: Marginalia: Part 3, Irving to Oxlee', 'The Collected Works of Samuel Taylor Coleridge, Volume 16: Poetical Works: Part 1. Poems (Reading Text)', 'The Collected Works of Samuel Taylor Coleridge, Volume 16: Poetical Works: Part 2. Poems (Variorum Text)', 'The Collected Works of Samuel Taylor Coleridge, Volume 16: Poetical Works: Part 3. Plays', 'To Priestley', 'To Burke', 'Trattato sul metodo', \"Notes on Coleridge's poetry\", 'Selections from the prose writings of Samuel Taylor Coleridge', 'The Collected Works of Samuel Taylor Coleridge, Volume 12: Marginalia: Part 4, Pamphlets to Shakespeare', 'The Collected Works of Samuel Taylor Coleridge, Volume 12: Marginalia: Part 5, Sherlock to Unidentified', 'The Collected Works of Samuel Taylor Coleridge, Volume 12: Marginalia: Part 6, Valckenaer to Zwick', 'The friend', 'The wanderings of Cain', 'To Godwin', 'Remorse: a tragedy, in five acts', 'Notes On English Divines V2', 'Coleridge on the seventeenth century', 'Selected poetry', 'Cubla Khan', 'Critical annotations', \"The devil's walk\", 'Shakespearean criticism', 'The Collected Works of Samuel Taylor Coleridge: Volume 14', 'The Collected Works of Samuel Taylor Coleridge, Volume 1: Lectures, 1795: On Politics and Religion', 'The Collected Works of Samuel Taylor Coleridge, Volume 2: The Watchman', 'The Collected Works of Samuel Taylor Coleridge, Volume 9: Aids to Reflection', 'The Collected Works of Samuel Taylor Coleridge, Volume 15: Opus Maximum', 'Spiritual Writings Selected Poems and Pros', 'Passages from the prose and table talk of Coleridge', 'Two Tales of the Sea', 'Letters of Samuel Taylor Coleridge', 'Conciones ad populum', 'Carnets de Coleridge', 'Unpublished letters of Samuel Taylor Coleridge', 'To Pitt', 'The Notebooks of Samuel Taylor Coleridge, Volume 1: 1794-1804', 'The Notebooks of Samuel Taylor Coleridge, Volume 2: 1804 - 1808', 'The Collected Works of Samuel Taylor Coleridge, Volume 11: Shorter Works and Fragments', 'The Collected Works of Samuel Taylor Coleridge, Volume 5: Lectures 1808-1819: On Literature', 'Miscellanies, aesthetic and literary', 'Complete works of Samuel Taylor Coleridge', 'To Erskine', 'Coleridge', 'Fears in Solitude', 'Select poetry & prose', 'To Kosciusko', 'The philosophical lectures [1818-1819] hitherto unpublished', 'The fall of Robespierre', 'Le dit du vieux marin', 'Poems by Samuel Taylor Coleridge', 'The letters, selected & with an introd. by Kathleen Raine', 'To Sheridan', 'The poetical and dramatic works of S.T. Coleridge', 'Sibylline leaves', 'Imagination in Coleridge', 'Limbo', \"A choice of Coleridge's verse\", \"statesman's manual\", 'The political thought of Samuel Taylor Coleridge', 'Notes, theological, political, and miscellaneous', \"The devil's thoughts\", 'Remorse, 1813', 'Roger Lloyd Pack Reads Samuel Taylor Coleridge', 'On religion and psychology', 'Blessed are ye that sow beside all waters', 'Sellected Poetry', 'Reise von Yarmouth nach Hamburg im Jahre 1798', '24 Negro Melodies', 'Essays on his own times', 'Zapolya', 'Cancion del Viejo Marinero, La', 'poetry & prose of Coleridge, Lamb & Leigh Hunt', 'Christobel: parts I and II', 'The plot discovered', 'The philosophical lectures', 'The golden book of Coleridge', 'La leggenda del vecchio marinaro', 'Notes on Stillingfleet', 'Der alte Matrose', 'Anima poetae', 'Twenty-Four Negro Melodies', 'The best of Coleridge', 'Four letters to Anna and Basil Montagu', 'To Lord Stanhope', 'To Bowles', 'Time, Real and Imaginary', 'Aids to reflection, in the formation of a manly character on the several grounds of prudence, morality, and religion', 'The poems of S. T. Coleridge', 'Selected poems', 'Seven Lectures On Shakespeare And Milton', 'A book I value', 'The poetry of Samuel Taylor Coleridge', 'Works of Samuel Taylor Coleridge', 'Writings on Shakespeare', 'To Southey', 'Shakespeare, Ben Jonson, Beaumont And Fletcher']. \n",
      "2. the topic Samuel Taylor Coleridge has relation influence.influence_node.influenced_by with following entities ['Giambattista Vico', 'Baruch Spinoza', 'Friedrich Wilhelm Joseph Schelling', 'Emanuel Swedenborg', 'Immanuel Kant', 'John Milton', 'William Shakespeare', 'Robert Burns', 'Thomas Browne', 'Algernon Charles Swinburne']. \n",
      "3. the topic Samuel Taylor Coleridge has relation people.person.education with following entities [\"Christ's Hospital\", 'University of Cambridge', 'Jesus College, Cambridge']. \n",
      "4. the topic Samuel Taylor Coleridge has relation people.person.profession with following entities ['Poet', 'Philosopher', 'Critic']. \n",
      "5. the topic Samuel Taylor Coleridge has relation influence.influence_node.peers with following entities ['Thomas De Quincey', 'William Wordsworth', 'Charles Lamb']. \n"
     ]
    }
   ],
   "source": [
    "print(prompt)"
   ]
  },
  {
   "cell_type": "code",
   "execution_count": 141,
   "metadata": {},
   "outputs": [
    {
     "name": "stdout",
     "output_type": "stream",
     "text": [
      "[\"Coleridge's works include poetry, plays, and literary criticism, and he is considered one of the most important figures in the Romantic movement.\", 'Coleridge was influenced by various philosophers and writers, including Giambattista Vico, Baruch Spinoza, Friedrich Wilhelm Joseph Schelling, Emanuel Swedenborg, Immanuel Kant, John Milton, William Shakespeare, Robert Burns, Thomas Browne, and Algernon Charles Swinburne.', \"Coleridge attended Christ's Hospital and the University of Cambridge, where he studied literature and philosophy.\", \"Coleridge's professions included poet, philosopher, and critic.\", \"Coleridge's peers included Thomas De Quincey, William Wordsworth, and Charles Lamb, who were also influential figures in the Romantic movement.\"]\n"
     ]
    }
   ],
   "source": [
    "print(topic_prop)"
   ]
  },
  {
   "cell_type": "code",
   "execution_count": 128,
   "metadata": {},
   "outputs": [
    {
     "data": {
      "text/plain": [
       "['The Appalachian Mountains are a mountain range in the eastern United States, stretching from Quebec, Canada, to Alabama, USA.',\n",
       " 'The Appalachian Mountains have several passes, including Grafton Notch, Cumberland Gap, and Franconia Notch.',\n",
       " 'The Appalachian Mountains cover an area of approximately 190,886 square miles.',\n",
       " 'The Appalachian Mountains are located in North America.',\n",
       " 'The Appalachian Mountains have a geolocation of 2037.0, 40.0, -78.0.']"
      ]
     },
     "execution_count": 128,
     "metadata": {},
     "output_type": "execute_result"
    }
   ],
   "source": [
    "[i[i.find(\" \")+1:] for i in topic_prop.split('\\n') if re.match(\"^[0-99]. \", i)]"
   ]
  },
  {
   "cell_type": "code",
   "execution_count": 115,
   "metadata": {},
   "outputs": [],
   "source": [
    "line_breaks = ['\\n{}. '.format(i+1) for i in range(5)]\n",
    "\n",
    "a = [i for i in topic_prop.split('\\n')]\n"
   ]
  },
  {
   "cell_type": "code",
   "execution_count": 124,
   "metadata": {},
   "outputs": [
    {
     "data": {
      "text/plain": [
       "['The Appalachian Mountains are a mountain range in the eastern United States, stretching from Quebec, Canada, to Alabama, USA.',\n",
       " 'The Appalachian Mountains have several passes, including Grafton Notch, Cumberland Gap, and Franconia Notch.',\n",
       " 'The Appalachian Mountains cover an area of approximately 190,886 square miles.',\n",
       " 'The Appalachian Mountains are located in North America.',\n",
       " 'The Appalachian Mountains have a geolocation of 2037.0, 40.0, -78.0.']"
      ]
     },
     "execution_count": 124,
     "metadata": {},
     "output_type": "execute_result"
    }
   ],
   "source": [
    "[i[i.find(\" \")+1:] for i in topic_prop.split('\\n') if re.match(\"^[0-99]. \", i)]"
   ]
  },
  {
   "cell_type": "code",
   "execution_count": 134,
   "metadata": {},
   "outputs": [
    {
     "data": {
      "text/plain": [
       "10000"
      ]
     },
     "execution_count": 134,
     "metadata": {},
     "output_type": "execute_result"
    }
   ],
   "source": [
    "sparql = \"\"\"\n",
    "PREFIX ns: <http://rdf.freebase.com/ns/>\n",
    "SELECT DISTINCT ?r\n",
    "WHERE {\n",
    "?x ?r ?e .\n",
    "}\n",
    "\"\"\"\n",
    "len(execurte_sparql(sparql))"
   ]
  }
 ],
 "metadata": {
  "kernelspec": {
   "display_name": "llm",
   "language": "python",
   "name": "python3"
  },
  "language_info": {
   "codemirror_mode": {
    "name": "ipython",
    "version": 3
   },
   "file_extension": ".py",
   "mimetype": "text/x-python",
   "name": "python",
   "nbconvert_exporter": "python",
   "pygments_lexer": "ipython3",
   "version": "3.9.19"
  }
 },
 "nbformat": 4,
 "nbformat_minor": 2
}
